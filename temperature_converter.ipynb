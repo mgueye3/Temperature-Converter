{
 "cells": [
  {
   "cell_type": "markdown",
   "id": "a8308653-2cf0-4a4b-a193-434fc838d8a2",
   "metadata": {},
   "source": [
    "**Description:**\n",
    "\n",
    "This script provides two functions for temperature conversion:\n",
    "1. **Celsius to Fahrenheit Conversion**\n",
    "2. **Fahrenheit to Celsius Conversion**\n"
   ]
  },
  {
   "cell_type": "code",
   "execution_count": null,
   "id": "3b0d613c-0aec-42ae-82f5-dd4f012dbcee",
   "metadata": {},
   "outputs": [],
   "source": [
    "def celsius_to_fahrenheit(celsius: float) -> float:\n",
    "    \"\"\"Converts Celsius to Fahrenheit.\"\"\"\n",
    "    return (9 / 5) * celsius + 32  \n",
    "\n",
    "def fahrenheit_to_celsius(fahrenheit: float) -> float:\n",
    "    \"\"\"Converts Fahrenheit to Celsius.\"\"\"\n",
    "    return (5 / 9) * (fahrenheit - 32)\n",
    "\n",
    "def main():\n",
    "    \"\"\"Main function to allow user interaction.\"\"\"\n",
    "    while True:\n",
    "        print(\"\"\"\n",
    "1. Convert Celsius to Fahrenheit\n",
    "2. Convert Fahrenheit to Celsius\n",
    "3. Exit\n",
    "\"\"\")\n",
    "        choice = input(\"Enter your choice: \").strip()\n",
    "        \n",
    "        try:\n",
    "            if choice == '1':\n",
    "                celsius = float(input(\"Enter temperature in Celsius: \"))\n",
    "                print(f\"{celsius}°C is {celsius_to_fahrenheit(celsius):.2f}°F\")\n",
    "            elif choice == '2':\n",
    "                fahrenheit = float(input(\"Enter temperature in Fahrenheit: \"))\n",
    "                print(f\"{fahrenheit}°F is {fahrenheit_to_celsius(fahrenheit):.2f}°C\")\n",
    "            elif choice == '3':\n",
    "                print(\"Exiting program.\")\n",
    "                break\n",
    "            else:\n",
    "                print(\"Invalid choice. Please enter 1, 2, or 3.\")\n",
    "        except ValueError:\n",
    "            print(\"Invalid input. Please enter a numeric value.\")\n",
    "\n",
    "if __name__ == \"__main__\":\n",
    "    main()\n"
   ]
  }
 ],
 "metadata": {
  "kernelspec": {
   "display_name": "Python 3 (ipykernel)",
   "language": "python",
   "name": "python3"
  },
  "language_info": {
   "codemirror_mode": {
    "name": "ipython",
    "version": 3
   },
   "file_extension": ".py",
   "mimetype": "text/x-python",
   "name": "python",
   "nbconvert_exporter": "python",
   "pygments_lexer": "ipython3",
   "version": "3.13.2"
  }
 },
 "nbformat": 4,
 "nbformat_minor": 5
}
